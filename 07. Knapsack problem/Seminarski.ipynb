{
 "cells": [
  {
   "cell_type": "markdown",
   "metadata": {},
   "source": [
    "# Knapsack problem"
   ]
  },
  {
   "cell_type": "markdown",
   "metadata": {},
   "source": [
    "## Definition"
   ]
  },
  {
   "cell_type": "markdown",
   "metadata": {},
   "source": [
    "We assume that the there is a knapsack with a volume $b>=0$, and a set of items with which the kanpsack is filled. Every item has it's own volume $a_j>=0$ and value $c_j>=0$.\n",
    "The goal is to fill the most valuable knapsack so that the sum of all items inside is the maximum possible, without going over the knapsack's volume."
   ]
  },
  {
   "cell_type": "markdown",
   "metadata": {},
   "source": [
    "The following definition is given for the **Unbounded Knapsack problem (UKP)** which places no upper bound on the number of copies of each kind of item and can be formulated as below except for that the only restriction is that the number of items in the solution must be non-negative integers.\n",
    "\n"
   ]
  },
  {
   "cell_type": "markdown",
   "metadata": {},
   "source": [
    "\\begin{equation}\n",
    "max\\sum_{j=1}^n c_jx_j\n",
    "\\end{equation}\n",
    "\n",
    "\\begin{equation}\n",
    "\\sum_{j=1}^n a_jx_j \\le b\n",
    "\\end{equation}\n",
    "\n",
    "\\begin{equation}\n",
    "x_1,x_2,...,x_n \\in Z,\\; x_j\\ge0\n",
    "\\end{equation}\n"
   ]
  },
  {
   "cell_type": "markdown",
   "metadata": {},
   "source": [
    "A more common occurence of this problem is in a form of **0-1 Knapsack Problem**, which restricts the number of copies of one kind of item to zero or one $x_j\\in\\{0,1\\}$."
   ]
  },
  {
   "cell_type": "markdown",
   "metadata": {},
   "source": [
    "***"
   ]
  },
  {
   "cell_type": "markdown",
   "metadata": {},
   "source": [
    "## Applications"
   ]
  },
  {
   "cell_type": "markdown",
   "metadata": {},
   "source": [
    "The name \"knapsack problem\" dates back to the early works of the mathematician Tobias Dantzig (1884–1956), and refers to the commonplace problem of packing the most valuable or useful items without overloading the luggage.\n",
    "\n"
   ]
  },
  {
   "cell_type": "markdown",
   "metadata": {},
   "source": [
    "Knapsack problem (KP) has broad applications in different fields such as\n",
    "machine scheduling, space allocation, and asset optimization. Meanwhile, it is a hard\n",
    "problem due to its computational complexity, but numerous solution approaches have\n",
    "been developed for a variety of KP. "
   ]
  },
  {
   "cell_type": "markdown",
   "metadata": {},
   "source": [
    "The problem often arises in resource allocation where the decision makers have to choose from a set of non-divisible projects or tasks under a fixed budget or time constraint, respectively. Problems like these arise in a wide variety of fields, such as finding the least wasteful way to cut raw materials, selection of investments and portfolios, and generating keys for the Merkle–Hellman and other knapsack cryptosystems.\n",
    "\n"
   ]
  },
  {
   "cell_type": "markdown",
   "metadata": {},
   "source": [
    "***"
   ]
  },
  {
   "cell_type": "markdown",
   "metadata": {},
   "source": [
    "## Solution"
   ]
  },
  {
   "cell_type": "markdown",
   "metadata": {},
   "source": [
    "### Recursive solution\n",
    "- The problem is solved by dividing it into stages\n",
    "- We are introducing a helper function $F$ defined like following:\n",
    "$\\begin{equation}\n",
    "F_k=max\\{c_1 x_1 + ... + c_k x_k \\:|\\: a_1 x_1 + ... + a_k x_k \\le y,\\;x_1,...,x_k\\ge0,\\;x_1,...,x_k\\in Z\\}\n",
    "\\end{equation}$"
   ]
  },
  {
   "cell_type": "markdown",
   "metadata": {},
   "source": [
    "#### Backward solution:\n",
    " - $F_1(y)=c_1\\lfloor\\frac{y}{a_1}\\rfloor$\n",
    " - $F_k(y)=max\\{F_{k-1}(y - a_k x_k) + c_k x_k \\:|\\: x_k \\in \\{0,1,...,\\lfloor \\frac{y}{a_k}\\rfloor\\}\\},\\; k\\ge2$"
   ]
  },
  {
   "cell_type": "markdown",
   "metadata": {},
   "source": [
    "#### Forward solution:\n",
    " - $F_k(y)=-\\infty,\\;y<0$\n",
    " - $F_1(y)=c_1\\lfloor\\frac{y}{a_1}\\rfloor,\\;y\\ge0$\n",
    " - $F_k(y)=max\\{F_{k-1}(y), F_{k}(y - a_k) + c_k\\},\\; k\\ge2$\n",
    " <br>\n",
    "  <br>\n",
    "   <br>\n",
    "$\n",
    "\\begin{cases}\n",
    "F_k(y)=max\\{F_{k-1}(y),\\,F_{k}(y - a_k) + c_k\\},\\; where\\,F_k(y)=-\\infty,\\; for\\,y<0,\n",
    " \\begin{cases}\n",
    " F_k(y)=F_{k-1},\\; x_k = 0,\\\\\n",
    " F_k(y)=F_{k}(y - a_k) + c_k,\\;x_k\\ge1\n",
    " \\end{cases}\n",
    "\\\\\n",
    "F_k(y)=max\\{F_{k-1}(y),\\,F_{k}(y - a_k) + c_k\\},\\; where\\,F_k(y)=-\\infty,\\; for\\,y<0,\n",
    "\\\\\n",
    "x(n-1)\n",
    "\\end{cases}\n",
    "$"
   ]
  }
 ],
 "metadata": {
  "kernelspec": {
   "display_name": "Python 3",
   "language": "python",
   "name": "python3"
  },
  "language_info": {
   "codemirror_mode": {
    "name": "ipython",
    "version": 3
   },
   "file_extension": ".py",
   "mimetype": "text/x-python",
   "name": "python",
   "nbconvert_exporter": "python",
   "pygments_lexer": "ipython3",
   "version": "3.8.5"
  }
 },
 "nbformat": 4,
 "nbformat_minor": 4
}
